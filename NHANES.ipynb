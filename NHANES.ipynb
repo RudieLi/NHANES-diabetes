{
 "cells": [
  {
   "cell_type": "markdown",
   "metadata": {},
   "source": [
    "# NHANES data\n",
    "\n",
    "> ### [Variable search](http://wwwn.cdc.gov/Nchs/Nhanes/Search/default.aspx)\n",
    "> ### [Demographic data](http://wwwn.cdc.gov/Nchs/Nhanes/Search/DataPage.aspx?Component=Demographics) - [variable list](http://wwwn.cdc.gov/nchs/nhanes/search/variablelist.aspx?Component=Demographics)\n",
    "> ### [Dietary](http://wwwn.cdc.gov/Nchs/Nhanes/Search/DataPage.aspx?Component=Dietary) - [variable list](http://wwwn.cdc.gov/nchs/nhanes/search/variablelist.aspx?Component=Dietary)\n",
    "> ### [Examination](http://wwwn.cdc.gov/Nchs/Nhanes/Search/DataPage.aspx?Component=Examination) - [variable list](http://wwwn.cdc.gov/nchs/nhanes/search/variablelist.aspx?Component=Examination)\n",
    "> ### [Laboratory](http://wwwn.cdc.gov/Nchs/Nhanes/Search/DataPage.aspx?Component=Laboratory) - [variable list](http://wwwn.cdc.gov/nchs/nhanes/search/variablelist.aspx?Component=Laboratory)\n",
    "> ### [Questionnaire](http://wwwn.cdc.gov/Nchs/Nhanes/Search/DataPage.aspx?Component=Questionnaire) - [variable list](http://wwwn.cdc.gov/nchs/nhanes/search/variablelist.aspx?Component=Questionnaire)\n",
    "\n",
    "# Methods\n",
    "\n",
    "### Data source\n",
    "> In this study, we used a 1999-2004 data set from the National Health and Nutrition Examination Survey (NHANES) to generate the SVM algorithm. NHANES is an ongoing, cross-sectional, probability sample survey of the U.S. population. It collects demographic, health history, and behavioral information from participants in home interviews. Participants are also invited for detailed physical, physiological, and laboratory examinations that are performed by trained personnel in specially equipped mobile centers [15].\n",
    "\n",
    "> We limited our study to non-pregnant participants aged 20 or older. Participants were considered to have diagnosed diabetes if they answered “yes” to the question “Have you ever been told by a doctor or health professionals that you have diabetes?” Participants who answered “no” to this question but who had a measured fasting plasma glucose ≥ 126 mg/dl were considered to have undiagnosed diabetes; those with a fasting plasma glucose 100-125 mg/dl were considered to have pre-diabetes. Participants with fasting glucose <100 mg/dl were considered to not have diabetes\n",
    "\n",
    "> We devised two different classification schemes (Table 1). In Classification Scheme I, the group of persons with diabetes (diagnosed or undiagnosed) was distinguished from those without diabetes, including persons with pre-diabetes. In Classification Scheme II, the group of persons with either undiagnosed diabetes or pre-diabetes was distinguished from those without diabetes. The models were developed using a sample of 80% of the individuals in each group and validated in the remaining 20%.\n",
    "\n",
    "### Variable selection\n",
    "> We selected 14 simple variables commonly associated with the risk for diabetes: family history, age, gender, race and ethnicity, weight, height, waist circumference, BMI, hypertension, physical activity, smoking, alcohol use, education, and household income. Variable selection was performed according to an automatic approach developed by Chen et al. [16]. The significance of the automatically selected set of variables was further manually evaluated by fine tuning parameters. The variables included in the final selection were those with the best discriminative performance.\n",
    "\n",
    "### Table 1\n",
    "\n",
    "<img src=\"./img/table1.png\">"
   ]
  },
  {
   "cell_type": "code",
   "execution_count": 1,
   "metadata": {
    "collapsed": false
   },
   "outputs": [],
   "source": [
    "import os\n",
    "import pandas as pd\n",
    "import matplotlib.pylab as plt\n",
    "from utils import fetch_NHANES\n",
    "\n",
    "plt.style.use('ggplot')\n",
    "%matplotlib inline"
   ]
  },
  {
   "cell_type": "code",
   "execution_count": 2,
   "metadata": {
    "collapsed": false
   },
   "outputs": [
    {
     "name": "stdout",
     "output_type": "stream",
     "text": [
      "Help on function fetch_NHANES in module utils:\n",
      "\n",
      "fetch_NHANES(year, database, data_dir='./data')\n",
      "    Retrieve NHANES data as a Pandas DataFrame.\n",
      "    \n",
      "    Years of available data:\n",
      "        1999-2000, 2001-2002, 2003-2004, 2005-2006,\n",
      "        2007-2008, 2009-2010, 2011-2012, 2013-2014\n",
      "\n"
     ]
    }
   ],
   "source": [
    "help(fetch_NHANES)"
   ]
  },
  {
   "cell_type": "code",
   "execution_count": 3,
   "metadata": {
    "collapsed": true
   },
   "outputs": [],
   "source": [
    "DEMO = pd.read_csv('./data/1999-2000/DEMO.csv')\n",
    "DEMO_B = pd.read_csv('./data/2001-2002/DEMO_B.csv')\n",
    "DEMO_C = pd.read_csv('./data/2003-2004/DEMO_C.csv')"
   ]
  },
  {
   "cell_type": "code",
   "execution_count": 4,
   "metadata": {
    "collapsed": true
   },
   "outputs": [],
   "source": [
    "DIQ = pd.read_csv('./data/1999-2000/DIQ.csv')\n",
    "DIQ_B = pd.read_csv('./data/2001-2002/DIQ_B.csv')\n",
    "DIQ_C = pd.read_csv('./data/2003-2004/DIQ_C.csv')"
   ]
  },
  {
   "cell_type": "code",
   "execution_count": 5,
   "metadata": {
    "collapsed": true
   },
   "outputs": [],
   "source": [
    "LAB10AM = pd.read_csv('./data/1999-2000/LAB10AM.csv')\n",
    "L10AM_B = pd.read_csv('./data/2001-2002/L10AM_B.csv')\n",
    "L10AM_C = pd.read_csv('./data/2003-2004/L10AM_C.csv')"
   ]
  },
  {
   "cell_type": "code",
   "execution_count": 6,
   "metadata": {
    "collapsed": true
   },
   "outputs": [],
   "source": [
    "ALQ = pd.read_csv('./data/1999-2000/ALQ.csv')\n",
    "ALQ_B = pd.read_csv('./data/2001-2002/ALQ_B.csv')\n",
    "ALQ_C = pd.read_csv('./data/2003-2004/ALQ_C.csv')"
   ]
  },
  {
   "cell_type": "code",
   "execution_count": 7,
   "metadata": {
    "collapsed": true
   },
   "outputs": [],
   "source": [
    "SMQ = pd.read_csv('./data/1999-2000/SMQ.csv')\n",
    "SMQ_B = pd.read_csv('./data/2001-2002/SMQ_B.csv')\n",
    "SMQ_C = pd.read_csv('./data/2003-2004/SMQ_C.csv')"
   ]
  },
  {
   "cell_type": "code",
   "execution_count": 8,
   "metadata": {
    "collapsed": true
   },
   "outputs": [],
   "source": [
    "BMX = pd.read_csv('./data/1999-2000/BMX.csv')\n",
    "BMX_B = pd.read_csv('./data/2001-2002/BMX_B.csv')\n",
    "BMX_C = pd.read_csv('./data/2003-2004/BMX_C.csv')"
   ]
  },
  {
   "cell_type": "code",
   "execution_count": 9,
   "metadata": {
    "collapsed": true
   },
   "outputs": [],
   "source": [
    "BPQ = pd.read_csv('./data/1999-2000/BPQ.csv')\n",
    "BPQ_B = pd.read_csv('./data/2001-2002/BPQ_B.csv')\n",
    "BPQ_C = pd.read_csv('./data/2003-2004/BPQ_C.csv')"
   ]
  },
  {
   "cell_type": "code",
   "execution_count": 10,
   "metadata": {
    "collapsed": true
   },
   "outputs": [],
   "source": [
    "MCQ = pd.read_csv('./data/1999-2000/MCQ.csv')\n",
    "MCQ_B = pd.read_csv('./data/2001-2002/MCQ_B.csv')\n",
    "MCQ_C = pd.read_csv('./data/2003-2004/MCQ_C.csv')"
   ]
  },
  {
   "cell_type": "code",
   "execution_count": 11,
   "metadata": {
    "collapsed": true
   },
   "outputs": [],
   "source": [
    "PAQ = pd.read_csv('./data/1999-2000/PAQ.csv')\n",
    "PAQ_B = pd.read_csv('./data/2001-2002/PAQ_B.csv')\n",
    "PAQ_C = pd.read_csv('./data/2003-2004/PAQ_C.csv')"
   ]
  },
  {
   "cell_type": "markdown",
   "metadata": {},
   "source": [
    "### variables of interest\n",
    "```\n",
    "DEMO\n",
    "    age:            \n",
    "                    RIDAGEYR\n",
    "    gender:         \n",
    "                    RIAGENDR\n",
    "    race:           \n",
    "                    RIDRETH1 # Race/Ethnicity - Recode\n",
    "    weight:         \n",
    "                    WTINT2YR # Full Sample 2 Year Interview Weight\n",
    "                    WTINT4YR # Full Sample 4 Year Interview Weight\n",
    "                    WTMEC2YR # Full Sample 2 Year MEC Exam Weight\n",
    "                    WTMEC4YR # Full Sample 4 Year MEC Exam Weight\n",
    "    education:\n",
    "                    DMDEDUC2 # Education Level - Adults 20+\n",
    "    house income:   \n",
    "                    INDHHINC # Annual Household Income\n",
    "\n",
    "ALQ\n",
    "    alcohol use:    \n",
    "                    ALQ110   # Had at least 12 alcohol drinks/lifetime?\n",
    "                    // ALD100   # Had at least 12 alcohol drinks/1 yr?\n",
    "                    // ALD240   # How often drink beer (per month)\n",
    "    \n",
    "SMQ\n",
    "    smoking:        SMD130   # Age started pipe smoking regularly\n",
    "                    SMD410   # Does anyone smoke in the home\n",
    "                    SMQ050Q\t # How long since quit smoking cigarettes\n",
    "\n",
    "BMX\n",
    "    height:         BMXHT    # Standing Height (cm)\n",
    "    waist cir:      BMXWAIST # Waist Circumference (cm)\n",
    "    bmi:            BMXBMI   # Body Mass Index (kg/m**2)\n",
    "\n",
    "BPQ\n",
    "    hypertension:   BPQ020   # Ever told you had high blood pressure\n",
    "\n",
    "PAQ\n",
    "    phys act:       PAQ180   # Avg level of physical activity each day\n",
    "\n",
    "MCQ\n",
    "    family hx:      MCQ250A  # Blood relatives have diabetes\n",
    "```"
   ]
  },
  {
   "cell_type": "markdown",
   "metadata": {},
   "source": [
    "### Age >= 20 and non-pregnant population"
   ]
  },
  {
   "cell_type": "code",
   "execution_count": 12,
   "metadata": {
    "collapsed": true
   },
   "outputs": [],
   "source": [
    "age = 20"
   ]
  },
  {
   "cell_type": "code",
   "execution_count": 13,
   "metadata": {
    "collapsed": false
   },
   "outputs": [
    {
     "data": {
      "text/plain": [
       "(3284, 14)"
      ]
     },
     "execution_count": 13,
     "metadata": {},
     "output_type": "execute_result"
    }
   ],
   "source": [
    "df_00 = DEMO.loc[((DEMO.RIAGENDR == 2) & (DEMO.RIDAGEYR >= age) & (DEMO.RIDEXPRG == 2)) | \n",
    "                 ((DEMO.RIAGENDR == 1) & (DEMO.RIDAGEYR >= age)),\n",
    "                 ['SEQN', 'RIDAGEYR', 'RIAGENDR', 'RIDRETH1', 'WTINT2YR', 'DMDEDUC2', 'INDHHINC']] \\\n",
    "        .merge(ALQ[['SEQN', 'ALQ110']], on='SEQN') \\\n",
    "        .merge(BMX[['SEQN', 'BMXHT', 'BMXWAIST', 'BMXBMI']], on='SEQN') \\\n",
    "        .merge(BPQ[['SEQN', 'BPQ020']], on='SEQN') \\\n",
    "        .merge(PAQ[['SEQN', 'PAQ180']], on='SEQN') \\\n",
    "        .merge(MCQ[['SEQN', 'MCQ250A']], on='SEQN')\n",
    "\n",
    "df_00.shape"
   ]
  },
  {
   "cell_type": "code",
   "execution_count": 14,
   "metadata": {
    "collapsed": false
   },
   "outputs": [
    {
     "data": {
      "text/plain": [
       "(3799, 14)"
      ]
     },
     "execution_count": 14,
     "metadata": {},
     "output_type": "execute_result"
    }
   ],
   "source": [
    "df_02 = DEMO_B.loc[((DEMO_B.RIAGENDR == 2) & (DEMO_B.RIDAGEYR >= age) & (DEMO_B.RIDEXPRG == 2)) | \n",
    "                   ((DEMO_B.RIAGENDR == 1) & (DEMO_B.RIDAGEYR >= age)),\n",
    "                   ['SEQN', 'RIDAGEYR', 'RIAGENDR', 'RIDRETH1', 'WTINT2YR', 'DMDEDUC2', 'INDHHINC']] \\\n",
    "        .merge(ALQ_B[['SEQN', 'ALQ110']], on='SEQN') \\\n",
    "        .merge(BMX_B[['SEQN', 'BMXHT', 'BMXWAIST', 'BMXBMI']], on='SEQN') \\\n",
    "        .merge(BPQ_B[['SEQN', 'BPQ020']], on='SEQN') \\\n",
    "        .merge(PAQ_B[['SEQN', 'PAQ180']], on='SEQN') \\\n",
    "        .merge(MCQ_B[['SEQN', 'MCQ250A']], on='SEQN')\n",
    "\n",
    "df_02.shape"
   ]
  },
  {
   "cell_type": "code",
   "execution_count": 15,
   "metadata": {
    "collapsed": false
   },
   "outputs": [
    {
     "data": {
      "text/plain": [
       "(3525, 14)"
      ]
     },
     "execution_count": 15,
     "metadata": {},
     "output_type": "execute_result"
    }
   ],
   "source": [
    "df_04 = DEMO_C.loc[((DEMO_C.RIAGENDR == 2) & (DEMO_C.RIDAGEYR >= age) & (DEMO_C.RIDEXPRG == 2)) | \n",
    "                   ((DEMO_C.RIAGENDR == 1) & (DEMO_C.RIDAGEYR >= age)),\n",
    "                   ['SEQN', 'RIDAGEYR', 'RIAGENDR', 'RIDRETH1', 'WTINT2YR', 'DMDEDUC2', 'INDHHINC']] \\\n",
    "        .merge(ALQ_C[['SEQN', 'ALQ110']], on='SEQN') \\\n",
    "        .merge(BMX_C[['SEQN', 'BMXHT', 'BMXWAIST', 'BMXBMI']], on='SEQN') \\\n",
    "        .merge(BPQ_C[['SEQN', 'BPQ020']], on='SEQN') \\\n",
    "        .merge(PAQ_C[['SEQN', 'PAQ180']], on='SEQN') \\\n",
    "        .merge(MCQ_C[['SEQN', 'MCQ250A']], on='SEQN')\n",
    "\n",
    "df_04.shape"
   ]
  },
  {
   "cell_type": "code",
   "execution_count": 16,
   "metadata": {
    "collapsed": false
   },
   "outputs": [
    {
     "data": {
      "text/plain": [
       "(10608, 14)"
      ]
     },
     "execution_count": 16,
     "metadata": {},
     "output_type": "execute_result"
    }
   ],
   "source": [
    "df_pop = pd.concat([df_00, df_02, df_04])\n",
    "df_pop.shape"
   ]
  },
  {
   "cell_type": "markdown",
   "metadata": {},
   "source": [
    "### Diagnosed Diabetes (total should be 1,266)\n",
    "\n",
    "The next questions are about specific medical conditions. {Other than during pregnancy, {have you/has SP}/{Have you/Has SP}} ever been told by a doctor or health professional that {you have/{he/she/SP} has} diabetes or sugar diabetes?"
   ]
  },
  {
   "cell_type": "code",
   "execution_count": 17,
   "metadata": {
    "collapsed": false
   },
   "outputs": [
    {
     "data": {
      "text/plain": [
       "(278, 15)"
      ]
     },
     "execution_count": 17,
     "metadata": {},
     "output_type": "execute_result"
    }
   ],
   "source": [
    "df_00_diag = df_00.merge(DIQ.loc[DIQ.DIQ010 == 1, ['SEQN', 'DIQ010']], on=\"SEQN\")\n",
    "df_00_diag.shape"
   ]
  },
  {
   "cell_type": "code",
   "execution_count": 18,
   "metadata": {
    "collapsed": false
   },
   "outputs": [
    {
     "data": {
      "text/plain": [
       "(308, 15)"
      ]
     },
     "execution_count": 18,
     "metadata": {},
     "output_type": "execute_result"
    }
   ],
   "source": [
    "df_02_diag = df_02.merge(DIQ_B.loc[DIQ_B.DIQ010 == 1, ['SEQN', 'DIQ010']], on=\"SEQN\")\n",
    "df_02_diag.shape"
   ]
  },
  {
   "cell_type": "code",
   "execution_count": 19,
   "metadata": {
    "collapsed": false
   },
   "outputs": [
    {
     "data": {
      "text/plain": [
       "(325, 15)"
      ]
     },
     "execution_count": 19,
     "metadata": {},
     "output_type": "execute_result"
    }
   ],
   "source": [
    "df_04_diag = df_04.merge(DIQ_C.loc[DIQ_C.DIQ010 == 1, ['SEQN', 'DIQ010']], on=\"SEQN\")\n",
    "df_04_diag.shape"
   ]
  },
  {
   "cell_type": "code",
   "execution_count": 20,
   "metadata": {
    "collapsed": false
   },
   "outputs": [
    {
     "data": {
      "text/plain": [
       "(911, 16)"
      ]
     },
     "execution_count": 20,
     "metadata": {},
     "output_type": "execute_result"
    }
   ],
   "source": [
    "diag_total = pd.concat([df_00_diag, df_02_diag, df_04_diag])\n",
    "diag_total.loc[:,'status'] = 'diag'\n",
    "diag_total.shape"
   ]
  },
  {
   "cell_type": "markdown",
   "metadata": {},
   "source": [
    "### Undiagnosed Diabetes (total should be 195) "
   ]
  },
  {
   "cell_type": "code",
   "execution_count": 21,
   "metadata": {
    "collapsed": false
   },
   "outputs": [
    {
     "data": {
      "text/plain": [
       "(39, 16)"
      ]
     },
     "execution_count": 21,
     "metadata": {},
     "output_type": "execute_result"
    }
   ],
   "source": [
    "df_00_undiag = df_00.merge(DIQ.loc[DIQ.DIQ010 == 2, ['SEQN', 'DIQ010']] \\\n",
    "                           .merge(LAB10AM.loc[LAB10AM.LBXGLU >= 126, ['SEQN', 'LBXGLU']], on='SEQN'), \n",
    "                       on='SEQN')\n",
    "df_00_undiag.shape"
   ]
  },
  {
   "cell_type": "code",
   "execution_count": 22,
   "metadata": {
    "collapsed": false
   },
   "outputs": [
    {
     "data": {
      "text/plain": [
       "(61, 16)"
      ]
     },
     "execution_count": 22,
     "metadata": {},
     "output_type": "execute_result"
    }
   ],
   "source": [
    "df_02_undiag = df_02.merge(DIQ_B.loc[DIQ_B.DIQ010 == 2, ['SEQN', 'DIQ010']] \\\n",
    "                           .merge(L10AM_B.loc[L10AM_B.LBXGLU >= 126, ['SEQN', 'LBXGLU']], on='SEQN'), \n",
    "                        on='SEQN')\n",
    "df_02_undiag.shape"
   ]
  },
  {
   "cell_type": "code",
   "execution_count": 23,
   "metadata": {
    "collapsed": false
   },
   "outputs": [
    {
     "data": {
      "text/plain": [
       "(38, 16)"
      ]
     },
     "execution_count": 23,
     "metadata": {},
     "output_type": "execute_result"
    }
   ],
   "source": [
    "df_04_undiag = df_04.merge(DIQ_C.loc[DIQ_C.DIQ010 == 2, ['SEQN', 'DIQ010']] \\\n",
    "                           .merge(L10AM_C.loc[L10AM_C.LBXGLU >= 126, ['SEQN', 'LBXGLU']], on='SEQN'), \n",
    "                        on='SEQN')\n",
    "df_04_undiag.shape"
   ]
  },
  {
   "cell_type": "code",
   "execution_count": 24,
   "metadata": {
    "collapsed": false
   },
   "outputs": [
    {
     "data": {
      "text/plain": [
       "(138, 17)"
      ]
     },
     "execution_count": 24,
     "metadata": {},
     "output_type": "execute_result"
    }
   ],
   "source": [
    "undiag_total = pd.concat([df_00_undiag, df_02_undiag, df_04_undiag])\n",
    "undiag_total.loc[:,'status'] = 'undiag'\n",
    "undiag_total.shape"
   ]
  },
  {
   "cell_type": "markdown",
   "metadata": {},
   "source": [
    "### Pre-diabetes (total should be 1,576)"
   ]
  },
  {
   "cell_type": "code",
   "execution_count": 25,
   "metadata": {
    "collapsed": false
   },
   "outputs": [
    {
     "data": {
      "text/plain": [
       "(426, 15)"
      ]
     },
     "execution_count": 25,
     "metadata": {},
     "output_type": "execute_result"
    }
   ],
   "source": [
    "df_00_prediab = df_00.merge(LAB10AM.loc[(LAB10AM.LBXGLU >= 100) & (LAB10AM.LBXGLU <= 125), ['SEQN', 'LBXGLU']],\n",
    "                            on='SEQN')\n",
    "df_00_prediab.shape"
   ]
  },
  {
   "cell_type": "code",
   "execution_count": 26,
   "metadata": {
    "collapsed": false
   },
   "outputs": [
    {
     "data": {
      "text/plain": [
       "(554, 15)"
      ]
     },
     "execution_count": 26,
     "metadata": {},
     "output_type": "execute_result"
    }
   ],
   "source": [
    "df_02_prediab = df_02.merge(L10AM_B.loc[(L10AM_B.LBXGLU >= 100) & (L10AM_B.LBXGLU <= 125), ['SEQN', 'LBXGLU']],\n",
    "                         on='SEQN')\n",
    "df_02_prediab.shape"
   ]
  },
  {
   "cell_type": "code",
   "execution_count": 27,
   "metadata": {
    "collapsed": false
   },
   "outputs": [
    {
     "data": {
      "text/plain": [
       "(444, 15)"
      ]
     },
     "execution_count": 27,
     "metadata": {},
     "output_type": "execute_result"
    }
   ],
   "source": [
    "df_04_prediab = df_04.merge(L10AM_C.loc[(L10AM_C.LBXGLU >= 100) & (L10AM_C.LBXGLU <= 125), ['SEQN', 'LBXGLU']], \n",
    "                         on='SEQN')\n",
    "df_04_prediab.shape"
   ]
  },
  {
   "cell_type": "code",
   "execution_count": 28,
   "metadata": {
    "collapsed": false
   },
   "outputs": [
    {
     "data": {
      "text/plain": [
       "(1424, 16)"
      ]
     },
     "execution_count": 28,
     "metadata": {},
     "output_type": "execute_result"
    }
   ],
   "source": [
    "prediab_total = pd.concat([df_00_prediab, df_02_prediab, df_04_prediab])\n",
    "prediab_total.loc[:,'status'] = 'prediab'\n",
    "prediab_total.shape"
   ]
  },
  {
   "cell_type": "markdown",
   "metadata": {},
   "source": [
    "### No Diabetes (total should be 3,277)"
   ]
  },
  {
   "cell_type": "code",
   "execution_count": 29,
   "metadata": {
    "collapsed": false
   },
   "outputs": [
    {
     "data": {
      "text/plain": [
       "(966, 15)"
      ]
     },
     "execution_count": 29,
     "metadata": {},
     "output_type": "execute_result"
    }
   ],
   "source": [
    "df_00_nodiab = df_00.merge(LAB10AM.loc[LAB10AM.LBXGLU < 100, ['SEQN', 'LBXGLU']], \n",
    "                           on='SEQN')\n",
    "df_00_nodiab.shape"
   ]
  },
  {
   "cell_type": "code",
   "execution_count": 30,
   "metadata": {
    "collapsed": false
   },
   "outputs": [
    {
     "data": {
      "text/plain": [
       "(1077, 15)"
      ]
     },
     "execution_count": 30,
     "metadata": {},
     "output_type": "execute_result"
    }
   ],
   "source": [
    "df_02_nodiab = df_02.merge(L10AM_B.loc[L10AM_B.LBXGLU < 100, ['SEQN', 'LBXGLU']],\n",
    "                           on='SEQN')\n",
    "df_02_nodiab.shape"
   ]
  },
  {
   "cell_type": "code",
   "execution_count": 31,
   "metadata": {
    "collapsed": false
   },
   "outputs": [
    {
     "data": {
      "text/plain": [
       "(999, 15)"
      ]
     },
     "execution_count": 31,
     "metadata": {},
     "output_type": "execute_result"
    }
   ],
   "source": [
    "df_04_nodiab = df_04.merge(L10AM_C.loc[L10AM_C.LBXGLU < 100, ['SEQN', 'LBXGLU']],\n",
    "                           on='SEQN')\n",
    "df_04_nodiab.shape"
   ]
  },
  {
   "cell_type": "code",
   "execution_count": 32,
   "metadata": {
    "collapsed": false
   },
   "outputs": [
    {
     "data": {
      "text/plain": [
       "(3042, 16)"
      ]
     },
     "execution_count": 32,
     "metadata": {},
     "output_type": "execute_result"
    }
   ],
   "source": [
    "nodiab_total = pd.concat([df_00_nodiab, df_02_nodiab, df_04_nodiab])\n",
    "nodiab_total.loc[:,'status'] = 'nodiab'\n",
    "nodiab_total.shape"
   ]
  },
  {
   "cell_type": "markdown",
   "metadata": {},
   "source": [
    "### Join everything"
   ]
  },
  {
   "cell_type": "code",
   "execution_count": 33,
   "metadata": {
    "collapsed": false
   },
   "outputs": [
    {
     "data": {
      "text/plain": [
       "(5515, 17)"
      ]
     },
     "execution_count": 33,
     "metadata": {},
     "output_type": "execute_result"
    }
   ],
   "source": [
    "df = pd.concat([diag_total, undiag_total, prediab_total, nodiab_total], ignore_index=True)\n",
    "df.shape"
   ]
  },
  {
   "cell_type": "code",
   "execution_count": 34,
   "metadata": {
    "collapsed": false
   },
   "outputs": [
    {
     "data": {
      "text/html": [
       "<div>\n",
       "<table border=\"1\" class=\"dataframe\">\n",
       "  <thead>\n",
       "    <tr style=\"text-align: right;\">\n",
       "      <th></th>\n",
       "      <th>ALQ110</th>\n",
       "      <th>BMXBMI</th>\n",
       "      <th>BMXHT</th>\n",
       "      <th>BMXWAIST</th>\n",
       "      <th>BPQ020</th>\n",
       "      <th>DIQ010</th>\n",
       "      <th>DMDEDUC2</th>\n",
       "      <th>INDHHINC</th>\n",
       "      <th>LBXGLU</th>\n",
       "      <th>MCQ250A</th>\n",
       "      <th>PAQ180</th>\n",
       "      <th>RIAGENDR</th>\n",
       "      <th>RIDAGEYR</th>\n",
       "      <th>RIDRETH1</th>\n",
       "      <th>SEQN</th>\n",
       "      <th>WTINT2YR</th>\n",
       "      <th>status</th>\n",
       "    </tr>\n",
       "  </thead>\n",
       "  <tbody>\n",
       "    <tr>\n",
       "      <th>0</th>\n",
       "      <td>NaN</td>\n",
       "      <td>25.57</td>\n",
       "      <td>157.7</td>\n",
       "      <td>NaN</td>\n",
       "      <td>1</td>\n",
       "      <td>1</td>\n",
       "      <td>1</td>\n",
       "      <td>3</td>\n",
       "      <td>NaN</td>\n",
       "      <td>1</td>\n",
       "      <td>1</td>\n",
       "      <td>1</td>\n",
       "      <td>70</td>\n",
       "      <td>1</td>\n",
       "      <td>13</td>\n",
       "      <td>1647.446107</td>\n",
       "      <td>diag</td>\n",
       "    </tr>\n",
       "    <tr>\n",
       "      <th>1</th>\n",
       "      <td>NaN</td>\n",
       "      <td>36.94</td>\n",
       "      <td>174.9</td>\n",
       "      <td>130.6</td>\n",
       "      <td>1</td>\n",
       "      <td>1</td>\n",
       "      <td>3</td>\n",
       "      <td>3</td>\n",
       "      <td>NaN</td>\n",
       "      <td>1</td>\n",
       "      <td>1</td>\n",
       "      <td>1</td>\n",
       "      <td>62</td>\n",
       "      <td>3</td>\n",
       "      <td>29</td>\n",
       "      <td>42515.710172</td>\n",
       "      <td>diag</td>\n",
       "    </tr>\n",
       "    <tr>\n",
       "      <th>2</th>\n",
       "      <td>1</td>\n",
       "      <td>26.17</td>\n",
       "      <td>171.1</td>\n",
       "      <td>94.9</td>\n",
       "      <td>2</td>\n",
       "      <td>1</td>\n",
       "      <td>2</td>\n",
       "      <td>6</td>\n",
       "      <td>NaN</td>\n",
       "      <td>1</td>\n",
       "      <td>4</td>\n",
       "      <td>1</td>\n",
       "      <td>59</td>\n",
       "      <td>3</td>\n",
       "      <td>130</td>\n",
       "      <td>70420.818338</td>\n",
       "      <td>diag</td>\n",
       "    </tr>\n",
       "    <tr>\n",
       "      <th>3</th>\n",
       "      <td>NaN</td>\n",
       "      <td>29.51</td>\n",
       "      <td>168.3</td>\n",
       "      <td>110.6</td>\n",
       "      <td>2</td>\n",
       "      <td>1</td>\n",
       "      <td>3</td>\n",
       "      <td>3</td>\n",
       "      <td>NaN</td>\n",
       "      <td>9</td>\n",
       "      <td>1</td>\n",
       "      <td>1</td>\n",
       "      <td>82</td>\n",
       "      <td>4</td>\n",
       "      <td>266</td>\n",
       "      <td>6916.692889</td>\n",
       "      <td>diag</td>\n",
       "    </tr>\n",
       "    <tr>\n",
       "      <th>4</th>\n",
       "      <td>NaN</td>\n",
       "      <td>22.36</td>\n",
       "      <td>169.3</td>\n",
       "      <td>91.3</td>\n",
       "      <td>2</td>\n",
       "      <td>1</td>\n",
       "      <td>4</td>\n",
       "      <td>6</td>\n",
       "      <td>NaN</td>\n",
       "      <td>1</td>\n",
       "      <td>3</td>\n",
       "      <td>1</td>\n",
       "      <td>56</td>\n",
       "      <td>3</td>\n",
       "      <td>272</td>\n",
       "      <td>95894.532170</td>\n",
       "      <td>diag</td>\n",
       "    </tr>\n",
       "  </tbody>\n",
       "</table>\n",
       "</div>"
      ],
      "text/plain": [
       "   ALQ110  BMXBMI  BMXHT  BMXWAIST  BPQ020  DIQ010  DMDEDUC2  INDHHINC  \\\n",
       "0     NaN   25.57  157.7       NaN       1       1         1         3   \n",
       "1     NaN   36.94  174.9     130.6       1       1         3         3   \n",
       "2       1   26.17  171.1      94.9       2       1         2         6   \n",
       "3     NaN   29.51  168.3     110.6       2       1         3         3   \n",
       "4     NaN   22.36  169.3      91.3       2       1         4         6   \n",
       "\n",
       "   LBXGLU  MCQ250A  PAQ180  RIAGENDR  RIDAGEYR  RIDRETH1  SEQN      WTINT2YR  \\\n",
       "0     NaN        1       1         1        70         1    13   1647.446107   \n",
       "1     NaN        1       1         1        62         3    29  42515.710172   \n",
       "2     NaN        1       4         1        59         3   130  70420.818338   \n",
       "3     NaN        9       1         1        82         4   266   6916.692889   \n",
       "4     NaN        1       3         1        56         3   272  95894.532170   \n",
       "\n",
       "  status  \n",
       "0   diag  \n",
       "1   diag  \n",
       "2   diag  \n",
       "3   diag  \n",
       "4   diag  "
      ]
     },
     "execution_count": 34,
     "metadata": {},
     "output_type": "execute_result"
    }
   ],
   "source": [
    "df.head()"
   ]
  },
  {
   "cell_type": "markdown",
   "metadata": {},
   "source": [
    "# Classification"
   ]
  },
  {
   "cell_type": "code",
   "execution_count": 35,
   "metadata": {
    "collapsed": true
   },
   "outputs": [],
   "source": [
    "from sklearn.ensemble import RandomForestClassifier\n",
    "from sklearn.cross_validation import KFold"
   ]
  },
  {
   "cell_type": "code",
   "execution_count": 36,
   "metadata": {
    "collapsed": true
   },
   "outputs": [],
   "source": [
    "rf = RandomForestClassifier()"
   ]
  },
  {
   "cell_type": "code",
   "execution_count": 37,
   "metadata": {
    "collapsed": false
   },
   "outputs": [],
   "source": [
    "y = df.status\n",
    "X = df.drop(['status', 'SEQN', 'LBXGLU'], axis=1).fillna(0)"
   ]
  },
  {
   "cell_type": "code",
   "execution_count": 38,
   "metadata": {
    "collapsed": false
   },
   "outputs": [],
   "source": [
    "kf = KFold(X.shape[0], n_folds=10, shuffle=True)"
   ]
  },
  {
   "cell_type": "code",
   "execution_count": 39,
   "metadata": {
    "collapsed": false
   },
   "outputs": [],
   "source": [
    "def CV(kf, X, y):\n",
    "    fold_pred = []\n",
    "    for i, (train_index, test_index) in enumerate(kf):\n",
    "        X_train, X_test = X.loc[train_index], X.loc[test_index]\n",
    "        y_train, y_test = y[train_index], y[test_index]\n",
    "        clf = rf.fit(X_train, y_train)\n",
    "        pred = clf.predict(X_test)\n",
    "        acc = sum(pred == y_test)/len(pred)\n",
    "        print('Fold #{}: {}'.format(i, round(acc, 3)))\n",
    "        fold_pred.append(acc)\n",
    "    avg = sum(fold_pred)/len(fold_pred)\n",
    "    print('AVERAGE:', round(avg, 3))"
   ]
  },
  {
   "cell_type": "code",
   "execution_count": 40,
   "metadata": {
    "collapsed": false
   },
   "outputs": [
    {
     "name": "stdout",
     "output_type": "stream",
     "text": [
      "Fold #0: 0.748\n",
      "Fold #1: 0.714\n",
      "Fold #2: 0.746\n",
      "Fold #3: 0.779\n",
      "Fold #4: 0.726\n",
      "Fold #5: 0.753\n",
      "Fold #6: 0.771\n",
      "Fold #7: 0.739\n",
      "Fold #8: 0.713\n",
      "Fold #9: 0.721\n",
      "AVERAGE: 0.741\n"
     ]
    }
   ],
   "source": [
    "CV(kf, X, y)"
   ]
  },
  {
   "cell_type": "code",
   "execution_count": 41,
   "metadata": {
    "collapsed": false
   },
   "outputs": [],
   "source": [
    "# pd.DataFrame({'importance': clf.feature_importances_}, index=X.columns) \\\n",
    "#     .sort_values(by='importance') \\\n",
    "#     .plot(kind='barh', figsize=(8,8));"
   ]
  }
 ],
 "metadata": {
  "kernelspec": {
   "display_name": "Python 3",
   "language": "python",
   "name": "python3"
  },
  "language_info": {
   "codemirror_mode": {
    "name": "ipython",
    "version": 3
   },
   "file_extension": ".py",
   "mimetype": "text/x-python",
   "name": "python",
   "nbconvert_exporter": "python",
   "pygments_lexer": "ipython3",
   "version": "3.4.3"
  }
 },
 "nbformat": 4,
 "nbformat_minor": 0
}
